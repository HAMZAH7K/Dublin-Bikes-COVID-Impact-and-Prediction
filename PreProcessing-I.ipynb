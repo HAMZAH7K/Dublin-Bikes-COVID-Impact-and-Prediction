{
 "cells": [
  {
   "cell_type": "markdown",
   "id": "f4e3f5a1",
   "metadata": {},
   "source": [
    "Note: I Assume that I did not have to upload all the downloaded data from dublinbikes, while doing filterations and modifications, trials and testings there were a lot of files created in the process and so it is likely that there would be issues while executing the codes for PreProcessing as there is no data folder present and also some files may not be present or may be renamed. "
   ]
  },
  {
   "cell_type": "code",
   "execution_count": 1,
   "id": "088e9f4f",
   "metadata": {},
   "outputs": [],
   "source": [
    "import pandas as pd\n",
    "import os"
   ]
  },
  {
   "cell_type": "code",
   "execution_count": 10,
   "id": "bf148fa5",
   "metadata": {},
   "outputs": [
    {
     "name": "stdout",
     "output_type": "stream",
     "text": [
      "Data has been filtered and combined into 'postpandemic.csv'.\n"
     ]
    }
   ],
   "source": [
    "folder_path = 'data/Post-Pandemic/'\n",
    "\n",
    "# List all CSV files in the folder\n",
    "csv_files = [file for file in os.listdir(folder_path) if file.endswith('.csv')]\n",
    "\n",
    "# Specify columns to remove\n",
    "columns_to_remove = ['NAME', 'STATUS', 'ADDRESS', 'LATITUDE', 'LONGITUDE', 'LAST UPDATED']\n",
    "\n",
    "# Initialize an empty list to store DataFrames\n",
    "dfs = []\n",
    "\n",
    "# Loop through each CSV file, remove columns, and append to the dfs list\n",
    "for file in csv_files:\n",
    "    file_path = os.path.join(folder_path, file)\n",
    "    df = pd.read_csv(file_path)\n",
    "    \n",
    "    # Remove specified columns\n",
    "    df_filtered = df.drop(columns=columns_to_remove, errors='ignore')\n",
    "    \n",
    "    # Append to the dfs list\n",
    "    dfs.append(df_filtered)\n",
    "\n",
    "# Concatenate the list of DataFrames into the combined_data DataFrame\n",
    "combined_data = pd.concat(dfs, ignore_index=True)\n",
    "\n",
    "\n",
    "combined_data.to_csv(os.path.join(folder_path, 'postpandemic.csv'), index=False)\n",
    "\n",
    "print(\"Data has been filtered and combined into 'postpandemic.csv'.\")\n"
   ]
  },
  {
   "cell_type": "code",
   "execution_count": 11,
   "id": "443bb606",
   "metadata": {},
   "outputs": [
    {
     "name": "stdout",
     "output_type": "stream",
     "text": [
      "Columns have been renamed in postpandemic.csv.\n"
     ]
    }
   ],
   "source": [
    "# Read the filtered and combined data \n",
    "file_path = 'data/Post-Pandemic/postpandemic.csv'\n",
    "postpandemic_data = pd.read_csv(file_path)\n",
    "\n",
    "# Rename the columns\n",
    "postpandemic_data.rename(columns={'STATION ID': 'STATION_ID'}, inplace=True)\n",
    "\n",
    "# Save the updated data to the same CSV file\n",
    "postpandemic_data.to_csv(file_path, index=False)\n",
    "\n",
    "print(\"Columns have been renamed in postpandemic.csv.\")\n"
   ]
  },
  {
   "cell_type": "code",
   "execution_count": 13,
   "id": "0d103d08",
   "metadata": {},
   "outputs": [
    {
     "name": "stdout",
     "output_type": "stream",
     "text": [
      "Data has been modified and saved to 'modpostpandemic.csv'.\n"
     ]
    }
   ],
   "source": [
    "# Load the data \n",
    "df = pd.read_csv('data/Post-Pandemic/postpandemic.csv', parse_dates=['TIME'])\n",
    "\n",
    "# Round the timestamps to the nearest hour\n",
    "df['TIME'] = df['TIME'].dt.floor('H')\n",
    "\n",
    "# Group by date and time, and aggregate the data\n",
    "df_modpostpandemic = df.groupby(['STATION_ID', 'TIME']).agg({\n",
    "    'BIKE_STANDS': 'mean',\n",
    "    'AVAILABLE_BIKE_STANDS': 'mean',\n",
    "    'AVAILABLE_BIKES': 'mean'\n",
    "}).reset_index()\n",
    "\n",
    "# Save the modified data to a new CSV\n",
    "df_modpostpandemic.to_csv('data/Post-Pandemic/modpostpandemic.csv', index=False)\n",
    "\n",
    "print(\"Data has been modified and saved to 'modpostpandemic.csv'.\")\n"
   ]
  },
  {
   "cell_type": "code",
   "execution_count": null,
   "id": "2397294d",
   "metadata": {},
   "outputs": [],
   "source": []
  }
 ],
 "metadata": {
  "kernelspec": {
   "display_name": "Python 3 (ipykernel)",
   "language": "python",
   "name": "python3"
  },
  "language_info": {
   "codemirror_mode": {
    "name": "ipython",
    "version": 3
   },
   "file_extension": ".py",
   "mimetype": "text/x-python",
   "name": "python",
   "nbconvert_exporter": "python",
   "pygments_lexer": "ipython3",
   "version": "3.11.5"
  }
 },
 "nbformat": 4,
 "nbformat_minor": 5
}
