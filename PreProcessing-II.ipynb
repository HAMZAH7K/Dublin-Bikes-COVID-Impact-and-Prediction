{
 "cells": [
  {
   "cell_type": "markdown",
   "id": "e6ae89b2",
   "metadata": {},
   "source": [
    "Bike Usage"
   ]
  },
  {
   "cell_type": "code",
   "execution_count": 7,
   "id": "c518969e",
   "metadata": {},
   "outputs": [],
   "source": [
    "import pandas as pd\n",
    "\n",
    "def calculate_bike_usage(df):\n",
    "    # Calculate the net change in bikes\n",
    "    df['BIKE_USAGE'] = df['AVAILABLE_BIKES'] - df['AVAILABLE_BIKES'].shift(1)\n",
    "    \n",
    "    # Handle missing values in the first row\n",
    "    df['BIKE_USAGE'] = df['BIKE_USAGE'].fillna(0)\n",
    "    \n",
    "    # Adjust for negative values\n",
    "    df['BIKE_USAGE'] = df['BIKE_USAGE'].apply(lambda x: max(0, x))\n",
    "    \n",
    "    return df\n",
    "\n",
    "# Load each CSV file\n",
    "file_paths = ['data/filtprepandemic.csv', 'data/filtpandemic.csv', 'data/filtpostpandemic.csv']\n",
    "for file_path in file_paths:\n",
    "    df = pd.read_csv(file_path, parse_dates=['TIME'])\n",
    "    \n",
    "    # Apply the bike usage calculation function\n",
    "    df = calculate_bike_usage(df)\n",
    "    \n",
    "    # Save the updated DataFrame back to the CSV file\n",
    "    df.to_csv(file_path, index=False)\n"
   ]
  },
  {
   "cell_type": "markdown",
   "id": "e251fef4",
   "metadata": {},
   "source": [
    "Daily Sum by Station"
   ]
  },
  {
   "cell_type": "code",
   "execution_count": 8,
   "id": "fd1cd34a",
   "metadata": {},
   "outputs": [],
   "source": [
    "import os\n",
    "import pandas as pd\n",
    "\n",
    "# Load each CSV file\n",
    "file_paths = ['data/filtprepandemic.csv', 'data/filtpandemic.csv', 'data/filtpostpandemic.csv']\n",
    "\n",
    "# Process each CSV file\n",
    "for file_path in file_paths:\n",
    "    \n",
    "    df = pd.read_csv(file_path, parse_dates=['TIME'])\n",
    "\n",
    "    # Calculate the daily sum\n",
    "    df_daily = df.groupby(['STATION_ID', pd.Grouper(key='TIME', freq='D')])['BIKE_USAGE'].sum().reset_index()\n",
    "\n",
    "    # Modify the file name for saving\n",
    "    file_name = os.path.basename(file_path)\n",
    "    new_file_name = file_name.replace('filt', 'final').replace('.csv', '_daily_sum.csv')\n",
    "\n",
    "    # Save the daily sum data back to a new CSV file\n",
    "    new_file_path = os.path.join('data', new_file_name)\n",
    "    df_daily.to_csv(new_file_path, index=False)\n",
    "\n"
   ]
  },
  {
   "cell_type": "markdown",
   "id": "b61cf5b9",
   "metadata": {},
   "source": [
    "Citywide Daily Sum"
   ]
  },
  {
   "cell_type": "code",
   "execution_count": 9,
   "id": "9f74baee",
   "metadata": {},
   "outputs": [],
   "source": [
    "import os\n",
    "import pandas as pd\n",
    "\n",
    "# Load each CSV file\n",
    "file_paths = ['data/finalprepandemic_daily_sum.csv', 'data/finalpandemic_daily_sum.csv', 'data/finalpostpandemic_daily_sum.csv']\n",
    "\n",
    "# Process each CSV file\n",
    "for file_path in file_paths:\n",
    "    \n",
    "    df = pd.read_csv(file_path, parse_dates=['TIME'])\n",
    "\n",
    "    # Calculate the daily sum for the whole city\n",
    "    df_city_daily = df.groupby('TIME')['BIKE_USAGE'].sum().reset_index()\n",
    "\n",
    "    # Modify the file name for saving\n",
    "    file_name = os.path.basename(file_path)\n",
    "    new_file_name = file_name.replace('final', 'final_citywide')\n",
    "\n",
    "    # Save the city-wide daily sum data back to a new CSV file\n",
    "    new_file_path = os.path.join('data', new_file_name)\n",
    "    df_city_daily.to_csv(new_file_path, index=False)\n"
   ]
  },
  {
   "cell_type": "markdown",
   "id": "a7d4c67b",
   "metadata": {},
   "source": [
    "Combining all files "
   ]
  },
  {
   "cell_type": "code",
   "execution_count": 13,
   "id": "a98eabb0",
   "metadata": {},
   "outputs": [],
   "source": [
    "import os\n",
    "import pandas as pd\n",
    "\n",
    "# Load each CSV file\n",
    "file_paths = ['data/final_citywidepre_daily_sum.csv', 'data/final_citywidepan_daily_sum.csv', 'data/final_citywidepost_daily_sum.csv']\n",
    "\n",
    "# Initialize an empty list to store DataFrames\n",
    "dfs = []\n",
    "\n",
    "# Process each CSV file and combine the data\n",
    "for file_path in file_paths:\n",
    "    \n",
    "    df = pd.read_csv(file_path, parse_dates=['TIME'])\n",
    "    dfs.append(df)\n",
    "\n",
    "# Concatenate the list of DataFrames into a single DataFrame\n",
    "combined_df = pd.concat(dfs, ignore_index=True)\n",
    "\n",
    "# Save the combined data to a new CSV file\n",
    "combined_file_path = 'data/combined_citywide_daily_sum.csv'\n",
    "combined_df.to_csv(combined_file_path, index=False)\n"
   ]
  },
  {
   "cell_type": "code",
   "execution_count": null,
   "id": "42afe2d8",
   "metadata": {},
   "outputs": [],
   "source": []
  }
 ],
 "metadata": {
  "kernelspec": {
   "display_name": "Python 3 (ipykernel)",
   "language": "python",
   "name": "python3"
  },
  "language_info": {
   "codemirror_mode": {
    "name": "ipython",
    "version": 3
   },
   "file_extension": ".py",
   "mimetype": "text/x-python",
   "name": "python",
   "nbconvert_exporter": "python",
   "pygments_lexer": "ipython3",
   "version": "3.11.5"
  }
 },
 "nbformat": 4,
 "nbformat_minor": 5
}
